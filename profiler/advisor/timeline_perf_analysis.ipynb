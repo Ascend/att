{
 "cells": [
  {
   "cell_type": "code",
   "execution_count": 2,
   "metadata": {},
   "outputs": [],
   "source": [
    "from advisor_backend.interface import Interface\n",
    "import matplotlib.pyplot as plt"
   ]
  },
  {
   "cell_type": "markdown",
   "metadata": {},
   "source": [
    "# Timeline调优分析\n",
    "\n",
    "## 1. Timeline分析的数据准备\n",
    "我们当前支持Ascend PyTorch Profiler方式采集后的ascend_pt目录，并支持单独分析ascend_pt/ASCEND_PROFILER_OUTPUT目录下的trace_view.json文件。\n",
    "\n",
    "## 2. Timeline分析解决的问题\n",
    "当前的功能：识别当前可选择的NPU亲和优化器；"
   ]
  },
  {
   "cell_type": "code",
   "execution_count": 4,
   "metadata": {},
   "outputs": [],
   "source": [
    "# EDIT THE PROFILING DATA PATH\n",
    "timeline_path = \"[YOUR PATH]\"\n",
    "interface = Interface(timeline_path)"
   ]
  },
  {
   "cell_type": "markdown",
   "metadata": {},
   "source": [
    "### 亲和优化器识别"
   ]
  },
  {
   "cell_type": "code",
   "execution_count": 5,
   "metadata": {},
   "outputs": [
    {
     "name": "stdout",
     "output_type": "stream",
     "text": [
      "[INFO] Start to analyse the target file: [YOUR PATH]\n",
      "['Optimizer.step#AdamW.step']\n",
      "You can choose torch_npu.optim.NpuFusedAdamW to replace the current Optimizer: Optimizer.step#AdamW.step.\n"
     ]
    }
   ],
   "source": [
    "dataset = interface.get_data('timeline', 'optimizer')\n",
    "# 打印当前使用的优化器\n",
    "data = dataset.get('data')\n",
    "print(data)\n",
    "\n",
    "# 如果使用了原生优化器，则打印优化建议\n",
    "advice = dataset.get('advice')\n",
    "print(advice)"
   ]
  }
 ],
 "metadata": {
  "kernelspec": {
   "display_name": "qkd",
   "language": "python",
   "name": "qkd"
  },
  "language_info": {
   "codemirror_mode": {
    "name": "ipython",
    "version": 3
   },
   "file_extension": ".py",
   "mimetype": "text/x-python",
   "name": "python",
   "nbconvert_exporter": "python",
   "pygments_lexer": "ipython3",
   "version": "3.8.18"
  }
 },
 "nbformat": 4,
 "nbformat_minor": 4
}
